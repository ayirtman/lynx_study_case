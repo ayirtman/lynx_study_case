{
 "cells": [
  {
   "cell_type": "code",
   "execution_count": 8,
   "id": "f9e9d5aa",
   "metadata": {},
   "outputs": [],
   "source": [
    "#import necessary libraries\n",
    "import pandas as pd\n",
    "import numpy as np\n",
    "import matplotlib.pyplot as plt\n"
   ]
  },
  {
   "cell_type": "code",
   "execution_count": 5,
   "id": "337a7992",
   "metadata": {},
   "outputs": [],
   "source": [
    "#load data set\n",
    "df = pd.read_csv('Yellow_Taxi_Assignment.csv')"
   ]
  },
  {
   "cell_type": "code",
   "execution_count": 10,
   "id": "ce6d2df5",
   "metadata": {},
   "outputs": [
    {
     "name": "stdout",
     "output_type": "stream",
     "text": [
      "   VendorID tpep_pickup_datetime tpep_dropoff_datetime  passenger_count  \\\n",
      "0         2  2018-01-01 12:02:01   2018-01-01 12:04:05              1.0   \n",
      "1         2  2018-01-01 12:26:48   2018-01-01 12:31:29              1.0   \n",
      "2         2  2018-01-01 01:28:34   2018-01-01 01:39:38              4.0   \n",
      "3         1  2018-01-01 08:51:59   2018-01-01 09:01:45              1.0   \n",
      "4         2  2018-01-01 01:00:19   2018-01-01 01:14:16              1.0   \n",
      "\n",
      "   trip_distance  RatecodeID store_and_fwd_flag  PULocationID  DOLocationID  \\\n",
      "0           0.53         1.0                  N           142           163   \n",
      "1           1.05         1.0                  N           140           236   \n",
      "2           1.83         1.0                  N           211           158   \n",
      "3           2.30         1.0                  N           249             4   \n",
      "4           3.06         1.0                  N           186           142   \n",
      "\n",
      "   payment_type  fare_amount  extra  mta_tax  tip_amount  tolls_amount  \\\n",
      "0             1          3.5    0.0      0.5        1.29           0.0   \n",
      "1             1          6.0    0.0      0.5        1.02           0.0   \n",
      "2             1          9.5    0.5      0.5        1.62           0.0   \n",
      "3             2         10.0    0.0      0.5        0.00           0.0   \n",
      "4             1         12.5    0.5      0.5        1.00           0.0   \n",
      "\n",
      "   improvement_surcharge  total_amount  congestion_surcharge  airport_fee  \n",
      "0                    0.3          5.59                   NaN          NaN  \n",
      "1                    0.3          7.82                   NaN          NaN  \n",
      "2                    0.3         12.42                   NaN          NaN  \n",
      "3                    0.3         10.80                   NaN          NaN  \n",
      "4                    0.3         14.80                   NaN          NaN  \n"
     ]
    }
   ],
   "source": [
    "# Get a glimpse of the data\n",
    "print(df.head())"
   ]
  },
  {
   "cell_type": "code",
   "execution_count": 11,
   "id": "2ee5b0d4",
   "metadata": {},
   "outputs": [
    {
     "name": "stdout",
     "output_type": "stream",
     "text": [
      "<class 'pandas.core.frame.DataFrame'>\n",
      "RangeIndex: 304978 entries, 0 to 304977\n",
      "Data columns (total 19 columns):\n",
      " #   Column                 Non-Null Count   Dtype  \n",
      "---  ------                 --------------   -----  \n",
      " 0   VendorID               304978 non-null  int64  \n",
      " 1   tpep_pickup_datetime   304978 non-null  object \n",
      " 2   tpep_dropoff_datetime  304978 non-null  object \n",
      " 3   passenger_count        295465 non-null  float64\n",
      " 4   trip_distance          304978 non-null  float64\n",
      " 5   RatecodeID             295465 non-null  float64\n",
      " 6   store_and_fwd_flag     295465 non-null  object \n",
      " 7   PULocationID           304978 non-null  int64  \n",
      " 8   DOLocationID           304978 non-null  int64  \n",
      " 9   payment_type           304978 non-null  int64  \n",
      " 10  fare_amount            304978 non-null  float64\n",
      " 11  extra                  304978 non-null  float64\n",
      " 12  mta_tax                304978 non-null  float64\n",
      " 13  tip_amount             304978 non-null  float64\n",
      " 14  tolls_amount           304978 non-null  float64\n",
      " 15  improvement_surcharge  304978 non-null  float64\n",
      " 16  total_amount           304978 non-null  float64\n",
      " 17  congestion_surcharge   232346 non-null  float64\n",
      " 18  airport_fee            106217 non-null  float64\n",
      "dtypes: float64(12), int64(4), object(3)\n",
      "memory usage: 44.2+ MB\n",
      "None\n"
     ]
    }
   ],
   "source": [
    "# Get information about the data\n",
    "print(df.info())"
   ]
  },
  {
   "cell_type": "code",
   "execution_count": 19,
   "id": "b39f57c7",
   "metadata": {},
   "outputs": [
    {
     "name": "stdout",
     "output_type": "stream",
     "text": [
      "VendorID                      0\n",
      "tpep_pickup_datetime          0\n",
      "tpep_dropoff_datetime         0\n",
      "passenger_count            9513\n",
      "trip_distance                 0\n",
      "RatecodeID                 9513\n",
      "store_and_fwd_flag         9513\n",
      "PULocationID                  0\n",
      "DOLocationID                  0\n",
      "payment_type                  0\n",
      "fare_amount                   0\n",
      "extra                         0\n",
      "mta_tax                       0\n",
      "tip_amount                    0\n",
      "tolls_amount                  0\n",
      "improvement_surcharge         0\n",
      "total_amount                  0\n",
      "congestion_surcharge      72632\n",
      "airport_fee              198761\n",
      "dtype: int64\n"
     ]
    }
   ],
   "source": [
    "# Check for missing values\n",
    "print(df.isnull().sum())"
   ]
  },
  {
   "cell_type": "code",
   "execution_count": 13,
   "id": "5932a836",
   "metadata": {},
   "outputs": [
    {
     "name": "stdout",
     "output_type": "stream",
     "text": [
      "            VendorID  passenger_count  trip_distance     RatecodeID  \\\n",
      "count  304978.000000    295465.000000  304978.000000  295465.000000   \n",
      "mean        1.672786         1.479126       4.587589       1.142931   \n",
      "std         0.514069         1.108255     434.226624       2.969941   \n",
      "min         1.000000         0.000000     -16.860000       1.000000   \n",
      "25%         1.000000         1.000000       1.000000       1.000000   \n",
      "50%         2.000000         1.000000       1.730000       1.000000   \n",
      "75%         2.000000         2.000000       3.210000       1.000000   \n",
      "max         6.000000         6.000000  177247.400000      99.000000   \n",
      "\n",
      "        PULocationID   DOLocationID   payment_type    fare_amount  \\\n",
      "count  304978.000000  304978.000000  304978.000000  304978.000000   \n",
      "mean      163.744975     160.988898       1.240463      13.510189   \n",
      "std        66.570490      70.975905       0.528257      12.636651   \n",
      "min         1.000000       1.000000       0.000000    -197.000000   \n",
      "25%       121.000000     107.000000       1.000000       6.500000   \n",
      "50%       162.000000     162.000000       1.000000       9.500000   \n",
      "75%       234.000000     234.000000       2.000000      15.000000   \n",
      "max       265.000000     265.000000       5.000000     455.000000   \n",
      "\n",
      "               extra        mta_tax     tip_amount   tolls_amount  \\\n",
      "count  304978.000000  304978.000000  304978.000000  304978.000000   \n",
      "mean        0.903506       0.492755       2.224064       0.390715   \n",
      "std         1.185321       0.074023       2.765200       1.699547   \n",
      "min        -6.000000      -0.500000     -20.000000     -13.750000   \n",
      "25%         0.000000       0.500000       0.000000       0.000000   \n",
      "50%         0.500000       0.500000       1.860000       0.000000   \n",
      "75%         1.000000       0.500000       2.950000       0.000000   \n",
      "max        18.500000       2.540000     115.560000      96.550000   \n",
      "\n",
      "       improvement_surcharge   total_amount  congestion_surcharge  \\\n",
      "count          304978.000000  304978.000000         232346.000000   \n",
      "mean                0.312725      19.050501              2.241650   \n",
      "std                 0.110404      15.464014              0.791877   \n",
      "min                -1.000000    -198.550000             -2.500000   \n",
      "25%                 0.300000      10.800000              2.500000   \n",
      "50%                 0.300000      14.300000              2.500000   \n",
      "75%                 0.300000      20.760000              2.500000   \n",
      "max                 1.000000     561.490000              2.750000   \n",
      "\n",
      "         airport_fee  \n",
      "count  106217.000000  \n",
      "mean        0.085815  \n",
      "std         0.318628  \n",
      "min        -1.250000  \n",
      "25%         0.000000  \n",
      "50%         0.000000  \n",
      "75%         0.000000  \n",
      "max         1.250000  \n"
     ]
    }
   ],
   "source": [
    "# Describe the data to see basic statistical details\n",
    "print(df.describe())"
   ]
  },
  {
   "cell_type": "markdown",
   "id": "f4219c3b",
   "metadata": {},
   "source": [
    "Now I have a basic understanding of the data. I can see that there are missing values in several columns: passenger_count, RatecodeID, store_and_fwd_flag, congestion_surcharge, and airport_fee.\n",
    "\n",
    "The next step will be to clean the data. Let's start by handling the missing values.\n",
    "\n"
   ]
  },
  {
   "cell_type": "code",
   "execution_count": null,
   "id": "3b418513",
   "metadata": {},
   "outputs": [],
   "source": []
  }
 ],
 "metadata": {
  "kernelspec": {
   "display_name": "Python 3 (ipykernel)",
   "language": "python",
   "name": "python3"
  },
  "language_info": {
   "codemirror_mode": {
    "name": "ipython",
    "version": 3
   },
   "file_extension": ".py",
   "mimetype": "text/x-python",
   "name": "python",
   "nbconvert_exporter": "python",
   "pygments_lexer": "ipython3",
   "version": "3.10.9"
  }
 },
 "nbformat": 4,
 "nbformat_minor": 5
}
